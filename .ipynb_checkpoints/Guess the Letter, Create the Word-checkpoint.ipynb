{
 "cells": [
  {
   "cell_type": "markdown",
   "metadata": {},
   "source": [
    "**Create a Letter Guessing Game**\n",
    "\n",
    "Create a program that allows a user 7 chances to guess the correct word. If they do not guess the word after 7 tries, the player loses and the program will print the correct word. Otherwise, the player wins and the game ends.\n",
    "\n",
    "**How to build the program**\n",
    "* When you start the game, you will need to select a random word from a list of at least 10 words (You have full control over which words you want to use for you program). This will be your secret word. Your secret word will be represented in the program as a group of underscores. For as long as the word is, you should also have that many underscores. \n",
    "\n",
    "* Once the word is selected, your game will commence. Perform a Google search to figure out how to select a random word from a list using Python.<br>\n",
    "**Hint** There's package you can import into your application that does this for you.\n",
    "\n",
    "* The end user will have a total of 7 chances to guess the correct letter from the secret word. If the end user makes 7 incorrect guesses, the game will end.\n",
    "\n",
    "* As you guess the correct letters, the letters you have guess will then take place of the underscores that letter represents. <br>\n",
    "**For Example**: If your secret word is 'watermelon' and  so far you have guessed the letters 'a' and 'e', the word you're trying to guess will appear as follows: _ a _ e _ _ e _ _ _.<br>\n",
    "**Keep in mind** that if you guess a letter that appears more than once in your secret word, make sure that the letter is populated anywhere that letter would be."
   ]
  },
  {
   "cell_type": "code",
   "execution_count": null,
   "metadata": {},
   "outputs": [],
   "source": [
    "# example\n",
    "'watermelon'\n",
    "\n",
    "_ _ _ _ _ _ _\n",
    "\n",
    "# guesses a and e ->\n",
    "\n",
    "_ a _ e _ _ e _ _ _\n",
    "\n",
    "# things to keep track of\n",
    "    # what the secret word is (DONE)\n",
    "        # i need a process for selecting the secret word at the start of the game (DONE)\n",
    "    # letters that have already been guessed (can't guess the same letter twice) (medium/low)\n",
    "        # maybe I want to keep track of correct/incorrect guesses separately... who knows\n",
    "    # current \"board\" - what blanks are left, what correct guesses have there been (high)\n",
    "    \n",
    "# what functionality is needed?\n",
    "    # picking of a random word (DONE)\n",
    "        # is there a module I can use to pick a random word from an entire dictionary? (low)\n",
    "    # asking the user for various inputs\n",
    "        # guess letters (medium)\n",
    "        # do I want the user to be able to guess the full word? probably (low)\n",
    "        # do I want the user to be able to play multiple rounds (lowest)\n",
    "            # do I want to keep track of score? (lowest)"
   ]
  },
  {
   "cell_type": "code",
   "execution_count": 23,
   "metadata": {},
   "outputs": [
    {
     "data": {
      "text/plain": [
       "'DeBruyne'"
      ]
     },
     "execution_count": 23,
     "metadata": {},
     "output_type": "execute_result"
    }
   ],
   "source": [
    "# redefine my problem - simplify what I have to do\n",
    "# at this point, I'm not trying to build a letter guessing game\n",
    "# I'm trying to write a program to pick a random word from a list of words\n",
    "# I want to store that word somewhere\n",
    "    # (if I'm writing object oriented code, that probably means store the word as an attribute of a class)\n",
    "    \n",
    "wordbank = ['Cancelo', 'DeBruyne', 'Ederson', 'Fernandinho', 'Bernardo', 'Ferran', 'Raheem', 'Guardiola', 'Grealish', 'Riyad', 'Ruben', 'Stones', 'Nathan', 'Oleksandr', 'Walker', 'Foden']\n",
    "# how do I pick a random word from this list of words\n",
    "# googled python random choice -> found random.choice()\n",
    "from random import choice\n",
    "secret = choice(wordbank)\n",
    "secret"
   ]
  },
  {
   "cell_type": "code",
   "execution_count": 69,
   "metadata": {},
   "outputs": [],
   "source": [
    "# this code block is where I will build my full object oriented program piece by piece\n",
    "\n",
    "class Secret:\n",
    "    # single picked secret word\n",
    "    def __init__(self, word):\n",
    "        self.word = word\n",
    "        self.board = ['_' for letter in word]\n",
    "    \n",
    "class GuessingGame:\n",
    "    # wordbank\n",
    "    # I don't plan on ever having multiple instances of my Guessing Game\n",
    "    # so I don't really need an __init__ method -> theres only gonna be one wordbank\n",
    "    \n",
    "    \n",
    "    # how do I pick a random word from this list of words\n",
    "    def pickWord():\n",
    "        wordbank = ['Cancelo', 'DeBruyne', 'Ederson', 'Fernandinho', 'Bernardo', 'Ferran', 'Raheem', 'Guardiola', 'Grealish', 'Riyad', 'Ruben', 'Stones', 'Nathan', 'Oleksandr', 'Walker', 'Foden']\n",
    "        # how do I pick a random word from this list of words\n",
    "        # googled python random choice -> found random.choice()\n",
    "        from random import choice\n",
    "        return choice(wordbank)\n",
    "    \n",
    "    def play():\n",
    "        # create an instance of my Secret object -> passing the picked word in as the word argument\n",
    "        cSecret = Secret(GuessingGame.pickWord())\n",
    "        print(cSecret, cSecret.word, cSecret.board)"
   ]
  },
  {
   "cell_type": "code",
   "execution_count": 79,
   "metadata": {},
   "outputs": [
    {
     "name": "stdout",
     "output_type": "stream",
     "text": [
      "<__main__.Secret object at 0x0000014E2E709A90> Nathan ['_', '_', '_', '_', '_', '_']\n"
     ]
    }
   ],
   "source": [
    "GuessingGame.play()"
   ]
  },
  {
   "cell_type": "code",
   "execution_count": null,
   "metadata": {},
   "outputs": [],
   "source": []
  },
  {
   "cell_type": "code",
   "execution_count": 66,
   "metadata": {},
   "outputs": [
    {
     "data": {
      "text/plain": [
       "['_', '_', '_', '_', '_', '_', '_', '_', '_', '_']"
      ]
     },
     "execution_count": 66,
     "metadata": {},
     "output_type": "execute_result"
    }
   ],
   "source": [
    "# how do I take a string word and transform it into underscores of the same length\n",
    "\n",
    "# input: 'watermelon'\n",
    "# output: ['_', '_', '_', '_', '_', '_', '_', '_', '_', '_']\n",
    "\n",
    "# considerations:\n",
    "    # do I need the string 'watermelon' moving forward?\n",
    "        # yes - I need to be able to compare guesses to my actual word\n",
    "        # therefore - this must be out-of-place (I don't want to modify the original string/overwrite the original string)\n",
    "    # what data type should I use for my underscore thingy\n",
    "        # do the underscores rely on being in a specific order? YES\n",
    "        # do I plan to modify the structure containing the underscores? YES\n",
    "        # therefore- I want to pick a data type that is ordered and mutable\n",
    "        # a LIST!\n",
    "        \n",
    "# transform a string into a list of underscores -> one underscore per letter\n",
    "# hang on a second... is this asking me to create a list from an iterable with a transformation?\n",
    "# LIST COMPREHENSION! [transformation for item in iterable]\n",
    "\n",
    "# what is my iterable? (thing I can loop through) - the string 'watermelon' or whatever string it may be\n",
    "# what is my item within that iterable? - a letter\n",
    "# what is my transformation of that item? (what is the value we're adding to the new list?) \n",
    "    # chuck out the letter, just use an underscore\n",
    "word = 'watermelon'\n",
    "board = ['_' for letter in word]\n",
    "board"
   ]
  },
  {
   "cell_type": "code",
   "execution_count": null,
   "metadata": {},
   "outputs": [],
   "source": [
    "# guessing a letter\n",
    "# i'm not worried about asking for user input yet\n",
    "# i just want to make it so that if my program is handed a letter, \n",
    "    # I can determine if that is a correct or incorrect guess and modify the board if necessary\n",
    "\n",
    "# 3 pieces of data involved in this problem\n",
    "# the word, the board, and a guessed letter\n",
    "\n",
    "# what I need to do -> check if the guessed letter is in the word\n",
    "# if letter in word\n",
    "    # change the corresponding underscore in the board to be the letter ***tricky part\n",
    "        # 1 figure out where in the board the letter exists (it can exist in multiple places!)\n",
    "            # 2 modify the board\n",
    "            \n",
    "# given a letter and a word\n",
    "# determine if that letter is in the word\n",
    "\n",
    "\n"
   ]
  }
 ],
 "metadata": {
  "kernelspec": {
   "display_name": "Python 3",
   "language": "python",
   "name": "python3"
  },
  "language_info": {
   "codemirror_mode": {
    "name": "ipython",
    "version": 3
   },
   "file_extension": ".py",
   "mimetype": "text/x-python",
   "name": "python",
   "nbconvert_exporter": "python",
   "pygments_lexer": "ipython3",
   "version": "3.8.8"
  }
 },
 "nbformat": 4,
 "nbformat_minor": 2
}
