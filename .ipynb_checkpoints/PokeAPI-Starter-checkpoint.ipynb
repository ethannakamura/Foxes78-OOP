{
 "cells": [
  {
   "cell_type": "markdown",
   "id": "3e841333",
   "metadata": {},
   "source": [
    "POKEMON API\n",
    "Retrieve a list of Pokemon's name, abilities, types, and weight from the PokeAPI\n",
    " https://pokeapi.co/\n",
    "\n",
    "Make 20 Pokemon\n",
    "\n",
    "Whenever you need to create a POKEMON, you need to construct your Pokemon through data from the API: https://pokeapi.co/\n",
    "\n",
    "Below is an example of how your Pokemon should be categorized: by Type.\n",
    "Create a dictionary\n",
    "{\n",
    "'Fire': {\n",
    "    'charizard': {\n",
    "        'abilities': [],\n",
    "        'weight': ,\n",
    "        },\n",
    "    'pokemon': {\n",
    "        'abilities': [],\n",
    "        'weight': ,\n",
    "        }\n",
    "},\n",
    "'Flying':,\n",
    "'Water':\n",
    "}\n",
    "\n",
    "When you're done, create a GitHub repository for your assignment and save the repository link as the assignment."
   ]
  },
  {
   "cell_type": "code",
   "execution_count": 8,
   "id": "2b9b6cc2",
   "metadata": {},
   "outputs": [
    {
     "name": "stdout",
     "output_type": "stream",
     "text": [
      "dict_keys(['abilities', 'base_experience', 'forms', 'game_indices', 'height', 'held_items', 'id', 'is_default', 'location_area_encounters', 'moves', 'name', 'order', 'past_types', 'species', 'sprites', 'stats', 'types', 'weight'])\n"
     ]
    }
   ],
   "source": [
    "# making an API call\n",
    "import requests as r\n",
    "req = r.get('https://pokeapi.co/api/v2/pokemon/articuno')\n",
    "if req.status_code == 200:\n",
    "    data = req.json()\n",
    "print(data.keys())"
   ]
  },
  {
   "cell_type": "code",
   "execution_count": 29,
   "id": "4da739bd",
   "metadata": {},
   "outputs": [
    {
     "name": "stdout",
     "output_type": "stream",
     "text": [
      "articuno\n"
     ]
    }
   ],
   "source": [
    "# name, abilities, types, and weight\n",
    "\n",
    "# get the name\n",
    "# when im going 1 at a time, my goal is save the name as its own variable\n",
    "name = data['name']\n",
    "print(name)"
   ]
  },
  {
   "cell_type": "code",
   "execution_count": 30,
   "id": "57bc12bd",
   "metadata": {},
   "outputs": [
    {
     "name": "stdout",
     "output_type": "stream",
     "text": [
      "554\n"
     ]
    }
   ],
   "source": [
    "# weight is probably the same approach to access as name\n",
    "weight = data['weight']\n",
    "print(weight)"
   ]
  },
  {
   "cell_type": "code",
   "execution_count": 31,
   "id": "769af682",
   "metadata": {},
   "outputs": [
    {
     "name": "stdout",
     "output_type": "stream",
     "text": [
      "snow-cloak\n",
      "['pressure', 'snow-cloak']\n",
      "['pressure', 'snow-cloak']\n"
     ]
    }
   ],
   "source": [
    "# abilities - we have a little more work to do - abilities is a list\n",
    "abilityname = data['abilities'][1]['ability']['name']\n",
    "print(abilityname)\n",
    "\n",
    "# if we want to do something to each item in our list, we need a loop!\n",
    "abilities = []\n",
    "for x in data['abilities']:\n",
    "    abilities.append(x['ability']['name'])\n",
    "print(abilities)\n",
    "\n",
    "# hey, thats a for loop through a list creating a new list with a transformation\n",
    "# isn't there a better way to do that?\n",
    "# LIST COMPREHENSIONS are made for this! :)\n",
    "# [transformation for item in iterable]\n",
    "abilities = [x['ability']['name'] for x in data['abilities']]\n",
    "print(abilities)"
   ]
  },
  {
   "cell_type": "code",
   "execution_count": 32,
   "id": "070e41da",
   "metadata": {},
   "outputs": [
    {
     "name": "stdout",
     "output_type": "stream",
     "text": [
      "ice\n",
      "['ice', 'flying']\n"
     ]
    }
   ],
   "source": [
    "# types - similar structure to abilities\n",
    "typename = data['types'][0]['type']['name']\n",
    "print(typename)\n",
    "\n",
    "# if I can do it for one, I can translate it for many\n",
    "# translate the single transformation into a list comprehension\n",
    "types = [x['type']['name'] for x in data['types']]\n",
    "print(types)"
   ]
  },
  {
   "cell_type": "code",
   "execution_count": 28,
   "id": "a3515ec7",
   "metadata": {},
   "outputs": [],
   "source": [
    "# the assignment suggests the following structure for a single pokemon\n",
    "pokemon1 = {\n",
    "'name': '',\n",
    "'abilities': [],\n",
    "'weight': '',\n",
    "'types': []\n",
    "}\n",
    "\n",
    "# it turns out that if we have figured out the processes for getting this data separately,\n",
    "    # we can easily make that dictionary"
   ]
  },
  {
   "cell_type": "code",
   "execution_count": 33,
   "id": "49bc98fc",
   "metadata": {},
   "outputs": [
    {
     "name": "stdout",
     "output_type": "stream",
     "text": [
      "{'name': 'articuno', 'abilities': ['pressure', 'snow-cloak'], 'weight': 554, 'types': ['ice', 'flying']}\n"
     ]
    }
   ],
   "source": [
    "articuno = {\n",
    "    'name': name,\n",
    "    'abilities': abilities,\n",
    "    'weight': weight,\n",
    "    'types': types\n",
    "}\n",
    "print(articuno)"
   ]
  },
  {
   "cell_type": "code",
   "execution_count": 36,
   "id": "a2738aee",
   "metadata": {},
   "outputs": [
    {
     "name": "stdout",
     "output_type": "stream",
     "text": [
      "{'name': 'spheal', 'types': ['ice', 'water'], 'abilities': ['thick-fat', 'ice-body', 'oblivious'], 'weight': 395}\n"
     ]
    }
   ],
   "source": [
    "import requests as r\n",
    "req = r.get('https://pokeapi.co/api/v2/pokemon/spheal')\n",
    "if req.status_code == 200:\n",
    "    data = req.json()\n",
    "\n",
    "spheal = {\n",
    "    'name': data['name'],\n",
    "    'types': [x['type']['name'] for x in data['types']],\n",
    "    'abilities': [x['ability']['name'] for x in data['abilities']],\n",
    "    'weight': data['weight']\n",
    "}\n",
    "\n",
    "print(spheal)"
   ]
  },
  {
   "cell_type": "code",
   "execution_count": 42,
   "id": "c8d159aa",
   "metadata": {},
   "outputs": [
    {
     "name": "stdout",
     "output_type": "stream",
     "text": [
      "{'name': 'lugia', 'types': ['psychic', 'flying'], 'abilities': ['pressure', 'multiscale'], 'weight': 2160}\n",
      "{'name': 'pikachu', 'types': ['electric'], 'abilities': ['static', 'lightning-rod'], 'weight': 60}\n"
     ]
    }
   ],
   "source": [
    "# make it a function!\n",
    "\n",
    "def pokeAPIcall(pokemon):\n",
    "    import requests as r\n",
    "    req = r.get(f'https://pokeapi.co/api/v2/pokemon/{pokemon}')\n",
    "    if req.status_code == 200:\n",
    "        data = req.json()\n",
    "    else:\n",
    "        return req.status_code # send back the error code if something went wrong\n",
    "    \n",
    "    pokedict = {\n",
    "        'name': data['name'],\n",
    "        'types': [x['type']['name'] for x in data['types']],\n",
    "        'abilities': [x['ability']['name'] for x in data['abilities']],\n",
    "        'weight': data['weight']\n",
    "    }\n",
    "\n",
    "    return pokedict\n",
    "\n",
    "lugia = pokeAPIcall('lugia')\n",
    "print(lugia)\n",
    "pika = pokeAPIcall('pikachu')\n",
    "print(pika)"
   ]
  },
  {
   "cell_type": "code",
   "execution_count": 51,
   "id": "b0b4bfe3",
   "metadata": {
    "scrolled": false
   },
   "outputs": [
    {
     "name": "stdout",
     "output_type": "stream",
     "text": [
      "[ { 'abilities': ['pressure', 'multiscale'],\n",
      "    'name': 'lugia',\n",
      "    'types': ['psychic', 'flying'],\n",
      "    'weight': 2160},\n",
      "  { 'abilities': ['static', 'lightning-rod'],\n",
      "    'name': 'pikachu',\n",
      "    'types': ['electric'],\n",
      "    'weight': 60},\n",
      "  { 'abilities': ['thick-fat', 'ice-body', 'oblivious'],\n",
      "    'name': 'spheal',\n",
      "    'types': ['ice', 'water'],\n",
      "    'weight': 395},\n",
      "  { 'abilities': ['water-veil', 'oblivious', 'pressure'],\n",
      "    'name': 'wailord',\n",
      "    'types': ['water'],\n",
      "    'weight': 3980},\n",
      "  { 'abilities': ['blaze', 'solar-power'],\n",
      "    'name': 'charmander',\n",
      "    'types': ['fire'],\n",
      "    'weight': 85},\n",
      "  { 'abilities': ['pressure', 'snow-cloak'],\n",
      "    'name': 'articuno',\n",
      "    'types': ['ice', 'flying'],\n",
      "    'weight': 554},\n",
      "  { 'abilities': ['overgrow', 'chlorophyll'],\n",
      "    'name': 'bulbasaur',\n",
      "    'types': ['grass', 'poison'],\n",
      "    'weight': 69},\n",
      "  { 'abilities': ['torrent', 'rain-dish'],\n",
      "    'name': 'squirtle',\n",
      "    'types': ['water'],\n",
      "    'weight': 90},\n",
      "  { 'abilities': ['inner-focus', 'multiscale'],\n",
      "    'name': 'dragonite',\n",
      "    'types': ['dragon', 'flying'],\n",
      "    'weight': 2100},\n",
      "  { 'abilities': ['limber', 'reckless', 'unburden'],\n",
      "    'name': 'hitmonlee',\n",
      "    'types': ['fighting'],\n",
      "    'weight': 498}]\n"
     ]
    }
   ],
   "source": [
    "pokemon = ['lugia', 'pikachu', 'spheal', 'wailord', 'charmander', 'articuno', 'bulbasaur', 'squirtle', 'dragonite', 'hitmonlee']\n",
    "\n",
    "monlist = []\n",
    "for name in pokemon:\n",
    "    monlist.append(pokeAPIcall(name))\n",
    "    \n",
    "monlist = [pokeAPIcall(name) for name in pokemon]\n",
    "\n",
    "# how are we printing with no print?\n",
    "# it is a thing that jupyter notebook does -> it \"prints\" the output of the final line of code in any code block\n",
    "import pprint\n",
    "pp = pprint.PrettyPrinter(indent=2)\n",
    "pp.pprint(monlist)\n",
    "# pprint is also a package for printing things in easier-to-read formats"
   ]
  },
  {
   "cell_type": "code",
   "execution_count": 66,
   "id": "8959a595",
   "metadata": {},
   "outputs": [
    {
     "data": {
      "text/plain": [
       "{'electric': {'pikachu': {'name': 'pikachu',\n",
       "   'types': ['electric'],\n",
       "   'abilities': ['static', 'lightning-rod'],\n",
       "   'weight': 60}},\n",
       " 'water': {'spheal': {'name': 'spheal',\n",
       "   'types': ['ice', 'water'],\n",
       "   'abilities': ['thick-fat', 'ice-body', 'oblivious'],\n",
       "   'weight': 395},\n",
       "  'wailord': {'name': 'wailord',\n",
       "   'types': ['water'],\n",
       "   'abilities': ['water-veil', 'oblivious', 'pressure'],\n",
       "   'weight': 3980},\n",
       "  'squirtle': {'name': 'squirtle',\n",
       "   'types': ['water'],\n",
       "   'abilities': ['torrent', 'rain-dish'],\n",
       "   'weight': 90}},\n",
       " 'psychic': {'lugia': {'name': 'lugia',\n",
       "   'types': ['psychic', 'flying'],\n",
       "   'abilities': ['pressure', 'multiscale'],\n",
       "   'weight': 2160}},\n",
       " 'poison': {'bulbasaur': {'name': 'bulbasaur',\n",
       "   'types': ['grass', 'poison'],\n",
       "   'abilities': ['overgrow', 'chlorophyll'],\n",
       "   'weight': 69}},\n",
       " 'flying': {'lugia': {'name': 'lugia',\n",
       "   'types': ['psychic', 'flying'],\n",
       "   'abilities': ['pressure', 'multiscale'],\n",
       "   'weight': 2160},\n",
       "  'articuno': {'name': 'articuno',\n",
       "   'types': ['ice', 'flying'],\n",
       "   'abilities': ['pressure', 'snow-cloak'],\n",
       "   'weight': 554},\n",
       "  'dragonite': {'name': 'dragonite',\n",
       "   'types': ['dragon', 'flying'],\n",
       "   'abilities': ['inner-focus', 'multiscale'],\n",
       "   'weight': 2100}},\n",
       " 'ice': {'spheal': {'name': 'spheal',\n",
       "   'types': ['ice', 'water'],\n",
       "   'abilities': ['thick-fat', 'ice-body', 'oblivious'],\n",
       "   'weight': 395},\n",
       "  'articuno': {'name': 'articuno',\n",
       "   'types': ['ice', 'flying'],\n",
       "   'abilities': ['pressure', 'snow-cloak'],\n",
       "   'weight': 554}},\n",
       " 'fire': {'charmander': {'name': 'charmander',\n",
       "   'types': ['fire'],\n",
       "   'abilities': ['blaze', 'solar-power'],\n",
       "   'weight': 85}},\n",
       " 'grass': {'bulbasaur': {'name': 'bulbasaur',\n",
       "   'types': ['grass', 'poison'],\n",
       "   'abilities': ['overgrow', 'chlorophyll'],\n",
       "   'weight': 69}},\n",
       " 'dragon': {'dragonite': {'name': 'dragonite',\n",
       "   'types': ['dragon', 'flying'],\n",
       "   'abilities': ['inner-focus', 'multiscale'],\n",
       "   'weight': 2100}},\n",
       " 'fighting': {'hitmonlee': {'name': 'hitmonlee',\n",
       "   'types': ['fighting'],\n",
       "   'abilities': ['limber', 'reckless', 'unburden'],\n",
       "   'weight': 498}}}"
      ]
     },
     "execution_count": 66,
     "metadata": {},
     "output_type": "execute_result"
    }
   ],
   "source": [
    "# you thought list comprehensions were fun\n",
    "# let me introduce the fun older cousin of the list comprehension\n",
    "# the dictionary comprehension \n",
    "# the structure of a dictionary comprehension mimics the structure of a list comprehension\n",
    "# list comp: [transformation(item) for item in iterable <optional conditional>]\n",
    "# dict comp: {transformation(item): transformation(v) for item in iterable <optional conditional>}\n",
    "\n",
    "# before I can start filling my dictionary of types, I need to figure out what all types I have\n",
    "\n",
    "# sets can only contain unique values\n",
    "types = set()\n",
    "for i in monlist:\n",
    "    for t in i['types']:\n",
    "        types.add(t) # .add() for a set is just like .append() for a list\n",
    "\n",
    "pokemonbytype = {}\n",
    "for t in types:\n",
    "    pokemonbytype[t] = {pokemon['name']:pokemon for pokemon in monlist if t in pokemon['types']}\n",
    "\n",
    "\n",
    "# include a pokemon in my water type section if it has water in it's typelist\n",
    "pokemonbytype['water'] = {pokemon['name']:pokemon for pokemon in monlist if 'water' in pokemon['types']}\n",
    "\n",
    "pokemonbytype"
   ]
  },
  {
   "cell_type": "code",
   "execution_count": 71,
   "id": "f8731c33",
   "metadata": {},
   "outputs": [
    {
     "data": {
      "text/plain": [
       "{'electric': {'pikachu': {'name': 'pikachu',\n",
       "   'types': ['electric'],\n",
       "   'abilities': ['static', 'lightning-rod'],\n",
       "   'weight': 60}},\n",
       " 'water': {'spheal': {'name': 'spheal',\n",
       "   'types': ['ice', 'water'],\n",
       "   'abilities': ['thick-fat', 'ice-body', 'oblivious'],\n",
       "   'weight': 395},\n",
       "  'wailord': {'name': 'wailord',\n",
       "   'types': ['water'],\n",
       "   'abilities': ['water-veil', 'oblivious', 'pressure'],\n",
       "   'weight': 3980},\n",
       "  'squirtle': {'name': 'squirtle',\n",
       "   'types': ['water'],\n",
       "   'abilities': ['torrent', 'rain-dish'],\n",
       "   'weight': 90}},\n",
       " 'psychic': {'lugia': {'name': 'lugia',\n",
       "   'types': ['psychic', 'flying'],\n",
       "   'abilities': ['pressure', 'multiscale'],\n",
       "   'weight': 2160}},\n",
       " 'poison': {'bulbasaur': {'name': 'bulbasaur',\n",
       "   'types': ['grass', 'poison'],\n",
       "   'abilities': ['overgrow', 'chlorophyll'],\n",
       "   'weight': 69}},\n",
       " 'flying': {'lugia': {'name': 'lugia',\n",
       "   'types': ['psychic', 'flying'],\n",
       "   'abilities': ['pressure', 'multiscale'],\n",
       "   'weight': 2160},\n",
       "  'articuno': {'name': 'articuno',\n",
       "   'types': ['ice', 'flying'],\n",
       "   'abilities': ['pressure', 'snow-cloak'],\n",
       "   'weight': 554},\n",
       "  'dragonite': {'name': 'dragonite',\n",
       "   'types': ['dragon', 'flying'],\n",
       "   'abilities': ['inner-focus', 'multiscale'],\n",
       "   'weight': 2100}},\n",
       " 'ice': {'spheal': {'name': 'spheal',\n",
       "   'types': ['ice', 'water'],\n",
       "   'abilities': ['thick-fat', 'ice-body', 'oblivious'],\n",
       "   'weight': 395},\n",
       "  'articuno': {'name': 'articuno',\n",
       "   'types': ['ice', 'flying'],\n",
       "   'abilities': ['pressure', 'snow-cloak'],\n",
       "   'weight': 554}},\n",
       " 'fire': {'charmander': {'name': 'charmander',\n",
       "   'types': ['fire'],\n",
       "   'abilities': ['blaze', 'solar-power'],\n",
       "   'weight': 85}},\n",
       " 'grass': {'bulbasaur': {'name': 'bulbasaur',\n",
       "   'types': ['grass', 'poison'],\n",
       "   'abilities': ['overgrow', 'chlorophyll'],\n",
       "   'weight': 69}},\n",
       " 'dragon': {'dragonite': {'name': 'dragonite',\n",
       "   'types': ['dragon', 'flying'],\n",
       "   'abilities': ['inner-focus', 'multiscale'],\n",
       "   'weight': 2100}},\n",
       " 'fighting': {'hitmonlee': {'name': 'hitmonlee',\n",
       "   'types': ['fighting'],\n",
       "   'abilities': ['limber', 'reckless', 'unburden'],\n",
       "   'weight': 498}}}"
      ]
     },
     "execution_count": 71,
     "metadata": {},
     "output_type": "execute_result"
    }
   ],
   "source": [
    "# if we have a list or set of our types, we can do a double dictionary comprehension for fun\n",
    "types = set()\n",
    "for i in monlist:\n",
    "    for t in i['types']:\n",
    "        types.add(t)\n",
    "        \n",
    "# double dictionary comprehension based on the types set and pokemon list\n",
    "pokemonbytype = {t: {pokemon['name']:pokemon for pokemon in monlist if t in pokemon['types']} for t in types}\n",
    "pokemonbytype"
   ]
  },
  {
   "cell_type": "code",
   "execution_count": 1,
   "id": "1493abdf",
   "metadata": {},
   "outputs": [
    {
     "name": "stdout",
     "output_type": "stream",
     "text": [
      "None\n"
     ]
    }
   ],
   "source": [
    "current = {\n",
    "    'name': 'bulbasaur',\n",
    "    'types': ['grass', 'poison'],\n",
    "    'abilities': ['overgrow', 'chlorophyll'],\n",
    "    'weight': 69\n",
    "}\n",
    "\n",
    "# dictionaries and objects are very easy to translate back and forth between\n",
    "# a dictionary's keys are like the names of an object's attributes\n",
    "# and a dictionary's values are the values of an object's attributes\n",
    "\n",
    "class Pokemon:\n",
    "    def __init__(self):\n",
    "        self.name = None\n",
    "        self.types = []\n",
    "        self.abilities = []\n",
    "        self.weight = None\n",
    "        \n",
    "\n",
    "pikachu = Pokemon()\n",
    "# i need to create a function to fill this information\n",
    "print(pikachu.name)\n",
    "        \n",
    "# so where do the values come from?\n",
    "# essentially what we want to do here is take the process we used in creating the dictionary\n",
    "# and apply to the instantiation/initalization (__init__ method) of our object"
   ]
  },
  {
   "cell_type": "code",
   "execution_count": null,
   "id": "da98e978",
   "metadata": {},
   "outputs": [],
   "source": [
    "# here's our dictionary creation process\n",
    "def pokeAPIcall(pokemon):\n",
    "    import requests as r\n",
    "    req = r.get(f'https://pokeapi.co/api/v2/pokemon/{pokemon}')\n",
    "    if req.status_code == 200:\n",
    "        data = req.json()\n",
    "    else:\n",
    "        return req.status_code # send back the error code if something went wrong\n",
    "    \n",
    "    pokedict = {\n",
    "        'name': data['name'],\n",
    "        'types': [x['type']['name'] for x in data['types']],\n",
    "        'abilities': [x['ability']['name'] for x in data['abilities']],\n",
    "        'weight': data['weight']\n",
    "    }\n",
    "\n",
    "    return pokedict\n",
    "\n",
    "\n",
    "# when do I want my api call to happen?\n",
    "# when do I want the values of the pokemon attributes to be filled\n",
    "\n",
    "# 2 options:\n",
    "    # have my pokemon start out with blank attributes when instantiated\n",
    "        # then make the api call and change those blank attributes\n",
    "        \n",
    "    # have the api call happen during instantiation \n",
    "        # such that my attributes are filled with their final values during instantiation\n",
    "\n",
    "        \n",
    "# i'll go with the first option -> in that scenario I basically just need to translate the full process above\n",
    "# for use as a class method modifying class attributes\n",
    "def pokeAPIcall(self, pokeName):\n",
    "    import requests as r\n",
    "    req = r.get(f'https://pokeapi.co/api/v2/pokemon/{pokeName}')\n",
    "    if req.status_code == 200:\n",
    "        data = req.json()\n",
    "    else:\n",
    "        print('Ran into an issue: {req.status_code}') # send back the error code if something went wrong\n",
    "        return\n",
    "    \n",
    "    self.name = data['name'],\n",
    "    self.types = [x['type']['name'] for x in data['types']],\n",
    "    self.abilities = [x['ability']['name'] for x in data['abilities']],\n",
    "    self.weight = data['weight']\n",
    "    \n",
    "# put that translated method into the pokemon class"
   ]
  },
  {
   "cell_type": "code",
   "execution_count": null,
   "id": "362682bc",
   "metadata": {},
   "outputs": [],
   "source": []
  },
  {
   "cell_type": "code",
   "execution_count": 15,
   "id": "727729ae",
   "metadata": {},
   "outputs": [
    {
     "name": "stdout",
     "output_type": "stream",
     "text": [
      "{'name': None, 'types': [], 'abilities': [], 'weight': None}\n",
      "Pikachu's data has been updated! {'name': 'Pikachu', 'types': ['electric'], 'abilities': ['static', 'lightning-rod'], 'weight': 60}\n",
      "<__main__.Pokemon object at 0x000002744A6F2BB0>\n"
     ]
    }
   ],
   "source": [
    "# combined code\n",
    "\n",
    "class Pokemon:\n",
    "    def __init__(self):\n",
    "        self.name = None\n",
    "        self.types = []\n",
    "        self.abilities = []\n",
    "        self.weight = None\n",
    "    \n",
    "    def pokeAPIcall(self, pokeName):\n",
    "        import requests as r\n",
    "        req = r.get(f'https://pokeapi.co/api/v2/pokemon/{pokeName}')\n",
    "        if req.status_code == 200:\n",
    "            data = req.json()\n",
    "        else:\n",
    "            print('Ran into an issue: {req.status_code}') # send back the error code if something went wrong\n",
    "            return\n",
    "\n",
    "        self.name = data['name'].title()\n",
    "        self.types = [x['type']['name'] for x in data['types']]\n",
    "        self.abilities = [x['ability']['name'] for x in data['abilities']]\n",
    "        self.weight = data['weight']\n",
    "        print(f\"{self.name}'s data has been updated! {self.__dict__}\")\n",
    "        \n",
    "pikachu = Pokemon() # instantiate a pikachu\n",
    "print(pikachu.__dict__) \n",
    "# dunder methods/attributes (aka double underscore) are special built-in methods and attributes\n",
    "    # that have specific behavior\n",
    "    # so when we use an __init__ method, the __dict__ attribute is automatically created in the background\n",
    "    # so we can access the __dict__ attribute\n",
    "        # has value of a dictionary representation of all of the other attributes of our object   \n",
    "pikachu.pokeAPIcall('pikachu') # make the api call happen for the pikachu instance of the Pokemon class\n",
    "print(pikachu)"
   ]
  },
  {
   "cell_type": "code",
   "execution_count": 20,
   "id": "b7b53e73",
   "metadata": {},
   "outputs": [
    {
     "name": "stdout",
     "output_type": "stream",
     "text": [
      "Lugia's data has been updated! {'name': 'Lugia', 'types': ['psychic', 'flying'], 'abilities': ['pressure', 'multiscale'], 'weight': 2160}\n",
      "Pikachu's data has been updated! {'name': 'Pikachu', 'types': ['electric'], 'abilities': ['static', 'lightning-rod'], 'weight': 60}\n",
      "Spheal's data has been updated! {'name': 'Spheal', 'types': ['ice', 'water'], 'abilities': ['thick-fat', 'ice-body', 'oblivious'], 'weight': 395}\n",
      "Wailord's data has been updated! {'name': 'Wailord', 'types': ['water'], 'abilities': ['water-veil', 'oblivious', 'pressure'], 'weight': 3980}\n",
      "Charmander's data has been updated! {'name': 'Charmander', 'types': ['fire'], 'abilities': ['blaze', 'solar-power'], 'weight': 85}\n",
      "Articuno's data has been updated! {'name': 'Articuno', 'types': ['ice', 'flying'], 'abilities': ['pressure', 'snow-cloak'], 'weight': 554}\n",
      "Bulbasaur's data has been updated! {'name': 'Bulbasaur', 'types': ['grass', 'poison'], 'abilities': ['overgrow', 'chlorophyll'], 'weight': 69}\n",
      "Squirtle's data has been updated! {'name': 'Squirtle', 'types': ['water'], 'abilities': ['torrent', 'rain-dish'], 'weight': 90}\n",
      "Dragonite's data has been updated! {'name': 'Dragonite', 'types': ['dragon', 'flying'], 'abilities': ['inner-focus', 'multiscale'], 'weight': 2100}\n",
      "Hitmonlee's data has been updated! {'name': 'Hitmonlee', 'types': ['fighting'], 'abilities': ['limber', 'reckless', 'unburden'], 'weight': 498}\n"
     ]
    },
    {
     "data": {
      "text/plain": [
       "{'lugia': <__main__.Pokemon at 0x2744a6f2a60>,\n",
       " 'pikachu': <__main__.Pokemon at 0x2744a98b370>,\n",
       " 'spheal': <__main__.Pokemon at 0x2744a739730>,\n",
       " 'wailord': <__main__.Pokemon at 0x2744a6ed880>,\n",
       " 'charmander': <__main__.Pokemon at 0x2744a6f2e20>,\n",
       " 'articuno': <__main__.Pokemon at 0x2744a6dd310>,\n",
       " 'bulbasaur': <__main__.Pokemon at 0x2744a976fd0>,\n",
       " 'squirtle': <__main__.Pokemon at 0x2744a976610>,\n",
       " 'dragonite': <__main__.Pokemon at 0x2744a976490>,\n",
       " 'hitmonlee': <__main__.Pokemon at 0x2744a976fa0>}"
      ]
     },
     "execution_count": 20,
     "metadata": {},
     "output_type": "execute_result"
    }
   ],
   "source": [
    "pokemon = ['lugia', 'pikachu', 'spheal', 'wailord', 'charmander', 'articuno', 'bulbasaur', 'squirtle', 'dragonite', 'hitmonlee']\n",
    "\n",
    "# dictionary of structure {name: object,}\n",
    "poke = {}\n",
    "for name in pokemon:\n",
    "    new = Pokemon() # instantiate a new pokemon\n",
    "    new.pokeAPIcall(name) # fill that pokemon's information based on the name provided\n",
    "    poke[name] = new\n",
    "    \n",
    "poke"
   ]
  },
  {
   "cell_type": "code",
   "execution_count": 21,
   "id": "b8f02be3",
   "metadata": {},
   "outputs": [],
   "source": [
    "# Where to go next? What to do with your Pokemon object?\n",
    "# \"What do now?\" - Charlie Kelly\n",
    "\n",
    "# Shopping cart style program? User builds a team of pokemon\n",
    "    # we could turn our pokemon object that utilizes API calls into a shopping cart style program\n",
    "    # where we ask our user for input\n",
    "    # ask the user what pokemon they want to create\n",
    "    \n",
    "# Check out what other endpoints the PokeAPI has to offer\n",
    "    # I figured out that they have a region endpoint\n",
    "        # the region endpoint has a pokedex endpoint within it\n",
    "        # I can build a list of pokemon names from that pokedex endpoint\n",
    "        # I can use that list of pokemon names in my repeatable pokemon object creation\n",
    "        # and wind up with a massive list of pokemon\n",
    "        # (note that the API will be a bit slower when you have hundreds of calls to make)\n",
    "        \n",
    "# Turn toward more user searching our pokemon lists - build functions for different types of search\n",
    "    # user can press 1 to search by name\n",
    "    # user can press 2 to search by type\n",
    "        # (have a function that loops through pokemon and figures out if they have the right type)"
   ]
  },
  {
   "cell_type": "code",
   "execution_count": null,
   "id": "6217cfcc",
   "metadata": {},
   "outputs": [],
   "source": []
  }
 ],
 "metadata": {
  "kernelspec": {
   "display_name": "Python 3",
   "language": "python",
   "name": "python3"
  },
  "language_info": {
   "codemirror_mode": {
    "name": "ipython",
    "version": 3
   },
   "file_extension": ".py",
   "mimetype": "text/x-python",
   "name": "python",
   "nbconvert_exporter": "python",
   "pygments_lexer": "ipython3",
   "version": "3.8.8"
  }
 },
 "nbformat": 4,
 "nbformat_minor": 5
}
