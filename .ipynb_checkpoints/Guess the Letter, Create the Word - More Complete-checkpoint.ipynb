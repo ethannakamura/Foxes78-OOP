{
 "cells": [
  {
   "cell_type": "markdown",
   "metadata": {},
   "source": [
    "**Create a Letter Guessing Game**\n",
    "\n",
    "Create a program that allows a user 7 chances to guess the correct word. If they do not guess the word after 7 tries, the player loses and the program will print the correct word. Otherwise, the player wins and the game ends.\n",
    "\n",
    "**How to build the program**\n",
    "* When you start the game, you will need to select a random word from a list of at least 10 words (You have full control over which words you want to use for you program). This will be your secret word. Your secret word will be represented in the program as a group of underscores. For as long as the word is, you should also have that many underscores. \n",
    "\n",
    "* Once the word is selected, your game will commence. Perform a Google search to figure out how to select a random word from a list using Python.<br>\n",
    "**Hint** There's package you can import into your application that does this for you.\n",
    "\n",
    "* The end user will have a total of 7 chances to guess the correct letter from the secret word. If the end user makes 7 incorrect guesses, the game will end.\n",
    "\n",
    "* As you guess the correct letters, the letters you have guess will then take place of the underscores that letter represents. <br>\n",
    "**For Example**: If your secret word is 'watermelon' and  so far you have guessed the letters 'a' and 'e', the word you're trying to guess will appear as follows: _ a _ e _ _ e _ _ _.<br>\n",
    "**Keep in mind** that if you guess a letter that appears more than once in your secret word, make sure that the letter is populated anywhere that letter would be."
   ]
  },
  {
   "cell_type": "code",
   "execution_count": null,
   "metadata": {},
   "outputs": [],
   "source": [
    "# example\n",
    "'watermelon'\n",
    "\n",
    "_ _ _ _ _ _ _\n",
    "\n",
    "# guesses a and e ->\n",
    "\n",
    "_ a _ e _ _ e _ _ _\n",
    "\n",
    "# things to keep track of\n",
    "    # what the secret word is (DONE)\n",
    "        # i need a process for selecting the secret word at the start of the game (DONE)\n",
    "    # letters that have already been guessed (can't guess the same letter twice) (DONE)\n",
    "        # maybe I want to keep track of correct/incorrect guesses separately... who knows\n",
    "    # current \"board\" - what blanks are left, what correct guesses have there been (DONE)\n",
    "    \n",
    "# what functionality is needed?\n",
    "    # Check if the user has won! (DONE)\n",
    "    # check if the user has lost (max 7 incorrect guesses) (DONE)\n",
    "    # picking of a random word (DONE)\n",
    "        # is there a module I can use to pick a random word from an entire dictionary? (lowest, I like my man city guessing game)\n",
    "    # asking the user for various inputs\n",
    "        # guess letters (DONE) (get user input)\n",
    "        # do I want the user to be able to guess the full word? probably (low)\n",
    "        # do I want the user to be able to play multiple rounds (lowest)\n",
    "            # do I want to keep track of score? (lowest)\n",
    "    # user requests a hint -> fill in a single letter (lowest)"
   ]
  },
  {
   "cell_type": "code",
   "execution_count": 23,
   "metadata": {},
   "outputs": [
    {
     "data": {
      "text/plain": [
       "'DeBruyne'"
      ]
     },
     "execution_count": 23,
     "metadata": {},
     "output_type": "execute_result"
    }
   ],
   "source": [
    "# redefine my problem - simplify what I have to do\n",
    "# at this point, I'm not trying to build a letter guessing game\n",
    "# I'm trying to write a program to pick a random word from a list of words\n",
    "# I want to store that word somewhere\n",
    "    # (if I'm writing object oriented code, that probably means store the word as an attribute of a class)\n",
    "    \n",
    "wordbank = ['Cancelo', 'DeBruyne', 'Ederson', 'Fernandinho', 'Bernardo', 'Ferran', 'Raheem', 'Guardiola', 'Grealish', 'Riyad', 'Ruben', 'Stones', 'Nathan', 'Oleksandr', 'Walker', 'Foden']\n",
    "# how do I pick a random word from this list of words\n",
    "# googled python random choice -> found random.choice()\n",
    "from random import choice\n",
    "secret = choice(wordbank)\n",
    "secret"
   ]
  },
  {
   "cell_type": "code",
   "execution_count": 89,
   "metadata": {},
   "outputs": [],
   "source": [
    "# this code block is where I will build my full object oriented program piece by piece\n",
    "from IPython.display import clear_output\n",
    "\n",
    "class Secret:\n",
    "    # single picked secret word\n",
    "    def __init__(self, word):\n",
    "        self.word = word\n",
    "        self.board = ['_' for letter in word]\n",
    "        self.corrects = set()\n",
    "        self.incorrects = set()\n",
    "    \n",
    "    def checkGuess(self, guess):\n",
    "        # if the guess isn't in my corrects or incorrects then I want to do my check\n",
    "        # in other words, end the function if the guess is in my corrects or in my incorrects\n",
    "        if guess in self.corrects or guess in self.incorrects:\n",
    "            print(f\"You've already guessed {guess}! Try a new letter.\")\n",
    "            return\n",
    "        # I'm going to use a flag to keep track of if the board has changed (flag is just a boolean variable)\n",
    "        boardChange = False # assume an incorrect guess\n",
    "        for i in range(len(self.word)):\n",
    "            if self.word[i] == guess:\n",
    "                self.board[i] = guess\n",
    "                boardChange = True # make note that the board has changed\n",
    "            elif self.word[i] == guess.upper():\n",
    "                self.board[i] = guess.upper()\n",
    "                boardChange = True # make note that the board has changed\n",
    "            #print(i, self.word[i], self.board) # testing print statment\n",
    "\n",
    "        if boardChange: # if boardChange == True\n",
    "            self.corrects.add(guess)\n",
    "        else: # implying boardChange is False\n",
    "            self.incorrects.add(guess)\n",
    "        #print(f\"corrects: {self.corrects} | incorrects: {self.incorrects}\") # testing print of corrects and incorrects\n",
    "    \n",
    "    def stillPlaying(self):\n",
    "        return '_' in self.board\n",
    "    \n",
    "    def displayBoard(self):\n",
    "        print(' '.join(self.board))\n",
    "    \n",
    "    def displayIncorrects(self):\n",
    "        if self.incorrects: # if incorrects isn't empty\n",
    "            print(f\"Incorrect guesses: {' '.join(self.incorrects)}\")\n",
    "class GuessingGame:\n",
    "    # wordbank\n",
    "    # I don't plan on ever having multiple instances of my Guessing Game\n",
    "    # so I don't really need an __init__ method -> theres only gonna be one wordbank\n",
    "    \n",
    "    \n",
    "    # how do I pick a random word from this list of words\n",
    "    def pickWord():\n",
    "        wordbank = ['Cancelo', 'DeBruyne', 'Ederson', 'Fernandinho', 'Bernardo', 'Ferran', 'Raheem', 'Guardiola', 'Grealish', 'Riyad', 'Ruben', 'Stones', 'Nathan', 'Oleksandr', 'Walker', 'Foden']\n",
    "        # how do I pick a random word from this list of words\n",
    "        # googled python random choice -> found random.choice()\n",
    "        from random import choice\n",
    "        return choice(wordbank)\n",
    "    \n",
    "    def play():\n",
    "        # create an instance of my Secret object -> passing the picked word in as the word argument\n",
    "        cSecret = Secret(GuessingGame.pickWord())\n",
    "        prevInputBad = False\n",
    "        while cSecret.stillPlaying() and len(cSecret.incorrects) < 7:\n",
    "            clear_output()\n",
    "            print('Guess this Manchester City Player!\\n')\n",
    "            # if the prev input was bad, tell the user that\n",
    "            if prevInputBad:\n",
    "                print('Bad input! Try again but only use one letter.')\n",
    "                prevInputBad=False # reset the flag\n",
    "            cSecret.displayBoard()\n",
    "            print('\\n')\n",
    "            cSecret.displayIncorrects()\n",
    "            # get user input for the guess\n",
    "            guess = input('What letter would you like to guess? ').lower() # make it always lowercase\n",
    "            # handle the user's guess\n",
    "                # if no letter -> guess again\n",
    "                # if multiple letters -> guess again\n",
    "                # two if conditions lead to same thing? combine them\n",
    "                # if no letter or multiple letters -> guess again\n",
    "                    # aka if len(guess) != 1 satisfies both\n",
    "            if len(guess) != 1 or guess.isalpha() == False:\n",
    "                prevInputBad = True # make a note that the user gave a bad input\n",
    "                continue\n",
    "            cSecret.checkGuess(guess)\n",
    "        # if the user has 7 incorrect guesses: game over, they lost\n",
    "        if len(cSecret.incorrects) == 7:\n",
    "            clear_output()\n",
    "            print(f'\\nToo many incorrect guesses! You lose.\\n')\n",
    "            cSecret.displayIncorrects()\n",
    "            print(f'\\nThe player was: {cSecret.word}')\n",
    "        else:\n",
    "            clear_output()\n",
    "            print('Congratulations you win!\\n')\n",
    "            cSecret.displayBoard()\n",
    "            print(f'\\nYou guessed {cSecret.word} correctly!')"
   ]
  },
  {
   "cell_type": "code",
   "execution_count": 90,
   "metadata": {
    "scrolled": false
   },
   "outputs": [
    {
     "name": "stdout",
     "output_type": "stream",
     "text": [
      "Congratulations you win!\n",
      "\n",
      "G r e a l i s h\n",
      "\n",
      "You guessed Grealish correctly!\n"
     ]
    }
   ],
   "source": [
    "GuessingGame.play()"
   ]
  },
  {
   "cell_type": "code",
   "execution_count": null,
   "metadata": {},
   "outputs": [],
   "source": []
  },
  {
   "cell_type": "code",
   "execution_count": 66,
   "metadata": {},
   "outputs": [
    {
     "data": {
      "text/plain": [
       "['_', '_', '_', '_', '_', '_', '_', '_', '_', '_']"
      ]
     },
     "execution_count": 66,
     "metadata": {},
     "output_type": "execute_result"
    }
   ],
   "source": [
    "# how do I take a string word and transform it into underscores of the same length\n",
    "\n",
    "# input: 'watermelon'\n",
    "# output: ['_', '_', '_', '_', '_', '_', '_', '_', '_', '_']\n",
    "\n",
    "# considerations:\n",
    "    # do I need the string 'watermelon' moving forward?\n",
    "        # yes - I need to be able to compare guesses to my actual word\n",
    "        # therefore - this must be out-of-place (I don't want to modify the original string/overwrite the original string)\n",
    "    # what data type should I use for my underscore thingy\n",
    "        # do the underscores rely on being in a specific order? YES\n",
    "        # do I plan to modify the structure containing the underscores? YES\n",
    "        # therefore- I want to pick a data type that is ordered and mutable\n",
    "        # a LIST!\n",
    "        \n",
    "# transform a string into a list of underscores -> one underscore per letter\n",
    "# hang on a second... is this asking me to create a list from an iterable with a transformation?\n",
    "# LIST COMPREHENSION! [transformation for item in iterable]\n",
    "\n",
    "# what is my iterable? (thing I can loop through) - the string 'watermelon' or whatever string it may be\n",
    "# what is my item within that iterable? - a letter\n",
    "# what is my transformation of that item? (what is the value we're adding to the new list?) \n",
    "    # chuck out the letter, just use an underscore\n",
    "word = 'watermelon'\n",
    "board = ['_' for letter in word]\n",
    "board"
   ]
  },
  {
   "cell_type": "code",
   "execution_count": 6,
   "metadata": {},
   "outputs": [
    {
     "name": "stdout",
     "output_type": "stream",
     "text": [
      "r is in watermelon.\n"
     ]
    }
   ],
   "source": [
    "# guessing a letter\n",
    "# i'm not worried about asking for user input yet\n",
    "# i just want to make it so that if my program is handed a letter, \n",
    "    # I can determine if that is a correct or incorrect guess and modify the board if necessary\n",
    "\n",
    "# 3 pieces of data involved in this problem\n",
    "# the word, the board, and a guessed letter\n",
    "\n",
    "# what I need to do -> check if the guessed letter is in the word\n",
    "# if letter in word\n",
    "    # change the corresponding underscore in the board to be the letter ***tricky part\n",
    "        # 1 figure out where in the board the letter exists (it can exist in multiple places!)\n",
    "            # 2 modify the board\n",
    "            \n",
    "# given a letter and a word\n",
    "# determine if that letter is in the word\n",
    "\n",
    "def checkGuess(letter, word):\n",
    "    if letter in word.lower():\n",
    "        print(f'{letter} is in {word}.')\n",
    "        # within this if block I need to figure out where the letter is in the word\n",
    "    else:\n",
    "        print(f'{letter} is not in {word}.')\n",
    "        \n",
    "checkGuess('r','watermelon')\n",
    "# edge case that I ran into - make sure lowercase and capital letters are treated the same"
   ]
  },
  {
   "cell_type": "code",
   "execution_count": 21,
   "metadata": {},
   "outputs": [
    {
     "name": "stdout",
     "output_type": "stream",
     "text": [
      "0 C ['C', '_', '_', '_', '_', '_', '_']\n",
      "1 a ['C', '_', '_', '_', '_', '_', '_']\n",
      "2 n ['C', '_', '_', '_', '_', '_', '_']\n",
      "3 c ['C', '_', '_', 'c', '_', '_', '_']\n",
      "4 e ['C', '_', '_', 'c', '_', '_', '_']\n",
      "5 l ['C', '_', '_', 'c', '_', '_', '_']\n",
      "6 o ['C', '_', '_', 'c', '_', '_', '_']\n"
     ]
    }
   ],
   "source": [
    "#word = 'watermelon'\n",
    "#guess = 'e'\n",
    "#board = ['_' for letter in word]\n",
    "# if i can determine the index number in the string word of the guessed letter\n",
    "# then I know the index number of the blank in the list I need to redefine\n",
    "\n",
    "# new question: how do I determine the index location of a letter in a word\n",
    "# multiple times! I can't be one and done\n",
    "# unfortunately I can't use .index()\n",
    "\n",
    "# new process to design: find index locations of a letter in a word\n",
    "# index loop through the string\n",
    "for i in range(len(word)):\n",
    "    #print(i, word[i], board)\n",
    "    if word[i] == guess:\n",
    "        board[i] = guess\n",
    "\n",
    "# huh, this for loop does everything I need. I guess this is my almost completed function?\n",
    "    #*It doesn't do anything with an incorrect guess yet\n",
    "# ok lets write our function\n",
    "def checkGuess(word, board, guess):\n",
    "    for i in range(len(word)):\n",
    "        if word[i] == guess:\n",
    "            board[i] = guess\n",
    "        elif word[i] == guess.upper():\n",
    "            board[i] = guess.upper()\n",
    "        print(i, word[i], board)\n",
    "checkGuess('Cancelo', ['_' for letter in 'Cancelo'], 'c')"
   ]
  },
  {
   "cell_type": "code",
   "execution_count": 44,
   "metadata": {},
   "outputs": [
    {
     "data": {
      "text/plain": [
       "True"
      ]
     },
     "execution_count": 44,
     "metadata": {},
     "output_type": "execute_result"
    }
   ],
   "source": [
    "# checking if the user has won\n",
    "# in other words, check if our board and our word match\n",
    "# word == board? will that work?\n",
    "# no, can't compare str to list\n",
    "# ok - how do I convert the str to a list or the list to a str\n",
    "\n",
    "# well I know the join method to turn a list into a str\n",
    "\n",
    "# what about the '_'? if the user has the correct word, will there be any '_' in our list? NO\n",
    "def stillPlaying(board):\n",
    "    return '_' in board\n",
    "\n",
    "checkWin(['_', 'a'])"
   ]
  },
  {
   "cell_type": "code",
   "execution_count": null,
   "metadata": {},
   "outputs": [],
   "source": []
  },
  {
   "cell_type": "code",
   "execution_count": 51,
   "metadata": {},
   "outputs": [
    {
     "name": "stdout",
     "output_type": "stream",
     "text": [
      "0 C ['_', '_', '_', '_', '_', '_', '_']\n",
      "1 a ['_', '_', '_', '_', '_', '_', '_']\n",
      "2 n ['_', '_', '_', '_', '_', '_', '_']\n",
      "3 c ['_', '_', '_', '_', '_', '_', '_']\n",
      "4 e ['_', '_', '_', '_', '_', '_', '_']\n",
      "5 l ['_', '_', '_', '_', '_', '_', '_']\n",
      "6 o ['_', '_', '_', '_', '_', '_', '_']\n",
      "corrects: set() | incorrects: {'q'}\n"
     ]
    }
   ],
   "source": [
    "# if a letter is guessed I want it either to go into a set of correct guessed letters\n",
    "# or I want to go into a set of incorrect guessed letters\n",
    "# before I bother checking my board/word, I want to make sure the guessed letter hasn't already been guessed\n",
    "corrects = set()\n",
    "incorrects = set()\n",
    "\n",
    "def checkGuess(word, board, corrects, incorrects, guess):\n",
    "    # if the guess isn't in my corrects or incorrects then I want to do my check\n",
    "    # in other words, end the function if the guess is in my corrects or in my incorrects\n",
    "    if guess in corrects or guess in incorrects:\n",
    "        print(f\"You've already guessed {guess}! Try a new letter.\")\n",
    "        return\n",
    "    # I'm going to use a flag to keep track of if the board has changed (flag is just a boolean variable)\n",
    "    boardChange = False # assume an incorrect guess\n",
    "    for i in range(len(word)):\n",
    "        if word[i] == guess:\n",
    "            board[i] = guess\n",
    "            boardChange = True # make note that the board has changed\n",
    "        elif word[i] == guess.upper():\n",
    "            board[i] = guess.upper()\n",
    "            boardChange = True # make note that the board has changed\n",
    "        print(i, word[i], board)\n",
    "    \n",
    "    if boardChange: # if boardChange == True\n",
    "        corrects.add(guess)\n",
    "    else: # implying boardChange is False\n",
    "        incorrects.add(guess)\n",
    "    print(f\"corrects: {corrects} | incorrects: {incorrects}\") #testing print of corrects and incorrects\n",
    "    \n",
    "checkGuess('Cancelo', ['_' for letter in 'Cancelo'], corrects, incorrects, 'q')\n",
    "\n",
    "# if I change my board, that means there was a correct guess\n",
    "# if I don't change my board, that means there was not a correct guess"
   ]
  },
  {
   "cell_type": "code",
   "execution_count": null,
   "metadata": {},
   "outputs": [],
   "source": []
  }
 ],
 "metadata": {
  "kernelspec": {
   "display_name": "Python 3",
   "language": "python",
   "name": "python3"
  },
  "language_info": {
   "codemirror_mode": {
    "name": "ipython",
    "version": 3
   },
   "file_extension": ".py",
   "mimetype": "text/x-python",
   "name": "python",
   "nbconvert_exporter": "python",
   "pygments_lexer": "ipython3",
   "version": "3.8.8"
  }
 },
 "nbformat": 4,
 "nbformat_minor": 2
}
