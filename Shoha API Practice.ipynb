{
 "cells": [
  {
   "cell_type": "markdown",
   "id": "98120487",
   "metadata": {},
   "source": [
    "# APIs\n",
    "\n",
    "#### What are they and how do we use them\n",
    "\n",
    "<p> API stands for application programming interface - what an API actually does is provide a way for different servers, devices, and applications to send information back and forth in a commonly understood structure. </p>\n",
    "\n",
    "<p> So using an api, we can send data from an application written in one programming language to an application written in another programming language on a different server, and both applications can understand that data. </p>"
   ]
  },
  {
   "cell_type": "markdown",
   "id": "af83c4fc",
   "metadata": {},
   "source": [
    "<p> Its kind of like the kitchen in a restaurant -> they take the unprepared food items, chop them up, cook them, and lay them out nicely presented on a plate for the customers to consume as they please. </p>\n",
    "\n",
    "<p> APIs use data formats that can be understood by multiple programming languages -> the most common one we will use is called JSON data (JavaScript Object Notation) </p>"
   ]
  },
  {
   "cell_type": "markdown",
   "id": "038106eb",
   "metadata": {},
   "source": [
    "Requests Package: https://docs.python-requests.org/en/latest/"
   ]
  },
  {
   "cell_type": "code",
   "execution_count": 1,
   "id": "e7dc3ee2",
   "metadata": {},
   "outputs": [],
   "source": [
    "import requests as r"
   ]
  },
  {
   "cell_type": "code",
   "execution_count": 9,
   "id": "5ca7e25f",
   "metadata": {},
   "outputs": [
    {
     "name": "stdout",
     "output_type": "stream",
     "text": [
      "200\n",
      "{'An actual Ocelot': {'age': 4, 'bestmovie': 'Archer', 'bestrole': 'Babou', 'first_name': 'An actual Ocelot', 'hiringprice': '$12,000', 'id': 7, 'image': 'https://64.media.tumblr.com/tumblr_lyuo36BEMi1qh3bh2o1_500.jpg', 'last_name': '', 'nationality': 'American'}, 'Danny DeVito': {'age': 76, 'bestmovie': 'Always Sunny in Philadelphia', 'bestrole': 'Frank Reynolds', 'first_name': 'Danny', 'hiringprice': '$200,000,000', 'id': 9, 'image': 'https://i.imgur.com/aEPor6k.png', 'last_name': 'DeVito', 'nationality': 'American'}, 'Emma Watson': {'age': 31, 'bestmovie': 'Harry Potter', 'bestrole': 'Hermione Granger', 'first_name': 'Emma', 'hiringprice': '$8,000,000.00', 'id': 15, 'image': None, 'last_name': 'Watson', 'nationality': 'British'}, 'F Murray Abraham': {'age': 81, 'bestmovie': 'Amadeus', 'bestrole': 'Salieri', 'first_name': 'F Murray', 'hiringprice': '$12,000,000', 'id': 4, 'image': 'https://cdn.britannica.com/27/77127-050-28A470C1/F-Murray-Abraham-Amadeus.jpg', 'last_name': 'Abraham', 'nationality': 'American'}, 'Geoffrey Rush': {'age': 70, 'bestmovie': 'Pirates of the Caribbean: The Curse of the Black Pearl', 'bestrole': 'Captain Hector Barbossa', 'first_name': 'Geoffrey', 'hiringprice': '$34,000,000.00', 'id': 3, 'image': 'https://images.hobbydatabase.com/processed_uploads/subject_photo/subject_photo/image/27343/1498583213-15856-7411/Barb_large.jpg', 'last_name': 'Rush', 'nationality': 'British'}, 'Jackie Chan': {'age': 67, 'bestmovie': 'Rush Hour', 'bestrole': 'Chief Inspector Lee', 'first_name': 'Jackie', 'hiringprice': '$2,000,000', 'id': 8, 'image': 'https://www.slashfilm.com/img/gallery/jackie-chans-15-greatest-fight-scenes-ranked/l-intro-1631751517.jpg', 'last_name': 'Chan', 'nationality': 'Chinese'}, 'Joaquin Phoenix': {'age': 46, 'bestmovie': 'Gladiator', 'bestrole': 'Commodus', 'first_name': 'Joaquin', 'hiringprice': '$18,000,000.00', 'id': 12, 'image': 'https://images.newindianexpress.com/uploads/user/imagelibrary/2019/10/28/original/2GladiatorJoaquinPhoenix_.jpg', 'last_name': 'Phoenix', 'nationality': 'Puerto Rican'}, 'Jon Favreau': {'age': 54, 'bestmovie': 'Chef', 'bestrole': 'Carl Casper', 'first_name': 'Jon', 'hiringprice': '$8,000,000.00', 'id': 13, 'image': 'https://www.looper.com/img/gallery/the-jon-favreau-dramedy-hidden-gem-you-need-to-watch-on-netflix/intro-1616693439.jpg', 'last_name': 'Favreau', 'nationality': 'American'}, 'Keira Knightley': {'age': 36, 'bestmovie': 'Pirates of the Caribbean: The Curse of the Black Pearl', 'bestrole': 'Elizabeth Swann', 'first_name': 'Keira', 'hiringprice': '$20,000,000.00', 'id': 14, 'image': 'https://preview.redd.it/q311kj6dbq861.jpg?width=487&format=pjpg&auto=webp&s=8e09d14786130fb1b92b2796854e43dd43f970e1', 'last_name': 'Knightley', 'nationality': 'British'}, \"Peter O'Toole\": {'age': 81, 'bestmovie': 'Ratatouille', 'bestrole': 'Anton Ego', 'first_name': 'Peter', 'hiringprice': '$12,000,000.00', 'id': 11, 'image': 'https://cdn.vox-cdn.com/thumbor/VAo2Oy-Pyb-FvwwR0O23uuI1RCw=/0x0:2442x1162/1200x675/filters:focal(1000x271:1390x661)/cdn.vox-cdn.com/uploads/chorus_image/image/69936938/Screen_Shot_2021_09_30_at_11.57.54_AM.0.png', 'last_name': \"O'Toole\", 'nationality': 'British'}, 'Will Smith': {'age': 53, 'bestmovie': 'The Pursuit of Happyness', 'bestrole': 'Chris Gardner', 'first_name': 'Will', 'hiringprice': '$8,000,000', 'id': 10, 'image': 'https://m.media-amazon.com/images/M/MV5BMTcwMTI0OTk1M15BMl5BanBnXkFtZTcwNzA1NjYyMw@@._V1_.jpg', 'last_name': 'Smith', 'nationality': 'American'}}\n"
     ]
    }
   ],
   "source": [
    "# r.get(url_string) is the requests package get method -> 'gets' some data from an api endpoint (url)\n",
    "var = r.get('https://foxes71api.herokuapp.com/api/actors')\n",
    "# results in a response object\n",
    "print(var.status_code) # 200 is success\n",
    "# what I can do depends on whether or not the api request was successful\n",
    "# the status_code attribute of the response object tells us if the api call was successful\n",
    "# these follow http status codes https://developer.mozilla.org/en-US/docs/Web/HTTP/Status\n",
    "my_data = var.json() # call the .json() method on the response object\n",
    "print(my_data)"
   ]
  },
  {
   "cell_type": "code",
   "execution_count": 11,
   "id": "25f16090",
   "metadata": {},
   "outputs": [
    {
     "data": {
      "text/plain": [
       "'Elizabeth Swann'"
      ]
     },
     "execution_count": 11,
     "metadata": {},
     "output_type": "execute_result"
    }
   ],
   "source": [
    "my_data['Keira Knightley']['bestrole']"
   ]
  },
  {
   "cell_type": "code",
   "execution_count": 14,
   "id": "e1c03ba7",
   "metadata": {},
   "outputs": [
    {
     "name": "stdout",
     "output_type": "stream",
     "text": [
      "200\n"
     ]
    }
   ],
   "source": [
    "import requests as r # often requests is imported under the alias r\n",
    "data = r.get(\"https://pokeapi.co/api/v2/pokemon/charmander\")\n",
    "print(data.status_code)"
   ]
  },
  {
   "cell_type": "code",
   "execution_count": 19,
   "id": "87346346",
   "metadata": {},
   "outputs": [
    {
     "name": "stdout",
     "output_type": "stream",
     "text": [
      "blaze\n",
      "solar-power\n"
     ]
    }
   ],
   "source": [
    "# Check Status Code\n",
    "if data.status_code == 200:\n",
    "    my_data = data.json()\n",
    "    #print(my_data)\n",
    "    # I want to print the names of each ability.\n",
    "    for ability in my_data['abilities']:\n",
    "        print(ability['ability']['name'])\n",
    "        #print(ability['ability']['name'])\n",
    "else:\n",
    "    print('Sorry, API call unsuccessful!')"
   ]
  },
  {
   "cell_type": "code",
   "execution_count": 31,
   "id": "47d3536e",
   "metadata": {},
   "outputs": [
    {
     "name": "stdout",
     "output_type": "stream",
     "text": [
      "emerald\n",
      "['gold', 'silver', 'crystal', 'ruby', 'sapphire', 'emerald', 'firered', 'leafgreen', 'diamond', 'pearl', 'platinum', 'heartgold', 'soulsilver', 'black', 'white', 'black-2', 'white-2']\n"
     ]
    }
   ],
   "source": [
    "# In-Class Exercise #1\n",
    "# From this API Endpoint: 'https://pokeapi.co/api/v2/pokemon/entei'\n",
    "# Access the string 'emerald' thats located somewhere within game_indices\n",
    "entei = r.get(\"https://pokeapi.co/api/v2/pokemon/entei\")\n",
    "entei.status_code\n",
    "entei = entei.json()\n",
    "print(entei['game_indices'][5]['version']['name'])\n",
    "\n",
    "# What if I want the game names of every game entei is in?\n",
    "entei_games = [item['version']['name'] for item in entei['game_indices']]\n",
    "# same but for loop\n",
    "entei_games = []\n",
    "for item in entei['game_indices']:\n",
    "    entei_games.append(item['version']['name'])\n",
    "print(entei_games)"
   ]
  },
  {
   "cell_type": "code",
   "execution_count": 40,
   "id": "a34d01cc",
   "metadata": {},
   "outputs": [
    {
     "data": {
      "text/plain": [
       "dict_keys(['abilities', 'base_experience', 'forms', 'game_indices', 'height', 'held_items', 'id', 'is_default', 'location_area_encounters', 'moves', 'name', 'order', 'past_types', 'species', 'sprites', 'stats', 'types', 'weight'])"
      ]
     },
     "execution_count": 40,
     "metadata": {},
     "output_type": "execute_result"
    }
   ],
   "source": [
    "# What are the names of all of the Pokemon games that Entei is in?\n",
    "# I want a list of the names of every game Entei is in.\n",
    "\n",
    "# Well, if I can do it for one piece of the data,\n",
    "\n",
    "# full api request below\n",
    "name = 'charmander'\n",
    "import requests as r # often requests is imported under the alias r\n",
    "data = r.get(f\"https://pokeapi.co/api/v2/pokemon/{name}\")\n",
    "data.status_code\n",
    "if data.status_code == 200:\n",
    "    my_data = data.json()\n",
    "    #print(my_data)  \n",
    "else:\n",
    "    print('Sorry, API call unsuccessful!')\n",
    "    \n",
    "# all of the data from the charmander api enpoint is now in the dictionary my_data\n",
    "my_data.keys()"
   ]
  },
  {
   "cell_type": "code",
   "execution_count": null,
   "id": "7d1f4f19",
   "metadata": {},
   "outputs": [],
   "source": [
    "# End goal structure for the basic version of the assignment:\n",
    "\n",
    "# First goal is to make 20 pokemon\n",
    "# Each pokemon is a dictionary\n",
    "pokemon = {\n",
    "    'name': 'insert my name here',\n",
    "    'abilities': ['roar','tailwhip','etc'],\n",
    "    'weight': 45,\n",
    "    'types': ['fire']\n",
    "}\n",
    "\n",
    "\n",
    "\n",
    "# after you make all the individual pokemon\n",
    "# put them in a dictionary of lists based on type\n",
    "my_pokemon = {\n",
    "    'fire':[{},{},{}],\n",
    "    'water': []   \n",
    "}\n",
    "\n",
    "# at this point, you would be done with the non-OOP version of the project"
   ]
  },
  {
   "cell_type": "code",
   "execution_count": null,
   "id": "d7d487f3",
   "metadata": {},
   "outputs": [],
   "source": [
    "# remember that string concatenation is a thing and/or that f-strings work here\n",
    "\n",
    "\n",
    "# access a dictionary\n",
    "pokemon['name']\n",
    "# access an object\n",
    "pokemon.name"
   ]
  },
  {
   "cell_type": "code",
   "execution_count": null,
   "id": "9a29a682",
   "metadata": {},
   "outputs": [],
   "source": [
    "import requests as r\n",
    "# Instead of Making a Pokemon Dictionary, I want to make pokemon objects\n",
    "# I want to store those pokemon objects in a dictionary where the key is the pokemon's name\n",
    "# {\n",
    "# 'grovyle' : <pokemon_object for grovyle @ 0x304180sflk31sj>\n",
    "# }\n",
    "# I want to be able to pass a dictionary made from the API call .json() data into the __init__() of Pokemon class\n",
    "# and have the pokemon's attributes be filled out from there\n",
    "\n",
    "# let me lay out my skeleton code\n",
    "# pokemon object is gonna have the same attributes\n",
    "    # name=str, abilities=[], types=[], weight=int\n",
    "# pokemon object methods\n",
    "    # display that prints our pokemon's info nice and pretty prettily? fancy-lookin.\n",
    "\n",
    "# second class pokedex\n",
    "    # 1 attribute - the dictionary of all the pokemon\n",
    "    \n",
    "    # 3 methods\n",
    "        # 1 create pokemon -> take in a list of pokemon names, and fill up our objects/dictionary\n",
    "        # 2 display function - to show all the pokemon\n",
    "        # 3 searching function to display based on the pokemon type asked for\n",
    "        \n",
    "        \n",
    "        \n",
    "        \n",
    "# pokemon objects\n",
    "class Pokemon():\n",
    "    def __init__(self):\n",
    "        pass\n",
    "    def printInfo(self):\n",
    "        pass\n",
    "\n",
    "\n",
    "\n",
    "\n",
    "# pokedex objects\n",
    "class Pokedex():\n",
    "    def __init__(self):\n",
    "        pass\n",
    "    def createPokemon(self):\n",
    "        pass\n",
    "    def showAll(self):\n",
    "        pass\n",
    "    def searchType(self):\n",
    "        pass\n",
    "\n",
    "\n",
    "\n"
   ]
  },
  {
   "cell_type": "code",
   "execution_count": null,
   "id": "5950b858",
   "metadata": {},
   "outputs": [],
   "source": [
    "# Driver Code"
   ]
  },
  {
   "cell_type": "code",
   "execution_count": null,
   "id": "115f0039",
   "metadata": {},
   "outputs": [],
   "source": []
  },
  {
   "cell_type": "code",
   "execution_count": null,
   "id": "6d627edd",
   "metadata": {},
   "outputs": [],
   "source": []
  },
  {
   "cell_type": "code",
   "execution_count": null,
   "id": "1f078d2b",
   "metadata": {},
   "outputs": [],
   "source": []
  },
  {
   "cell_type": "code",
   "execution_count": null,
   "id": "53a6479d",
   "metadata": {},
   "outputs": [],
   "source": []
  },
  {
   "cell_type": "code",
   "execution_count": null,
   "id": "f31fe77a",
   "metadata": {},
   "outputs": [],
   "source": []
  },
  {
   "cell_type": "code",
   "execution_count": null,
   "id": "1436320b",
   "metadata": {},
   "outputs": [],
   "source": []
  }
 ],
 "metadata": {
  "kernelspec": {
   "display_name": "Python 3",
   "language": "python",
   "name": "python3"
  },
  "language_info": {
   "codemirror_mode": {
    "name": "ipython",
    "version": 3
   },
   "file_extension": ".py",
   "mimetype": "text/x-python",
   "name": "python",
   "nbconvert_exporter": "python",
   "pygments_lexer": "ipython3",
   "version": "3.8.8"
  }
 },
 "nbformat": 4,
 "nbformat_minor": 5
}
