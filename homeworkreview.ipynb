{
 "cells": [
  {
   "cell_type": "code",
   "execution_count": 1,
   "id": "8cf166e5",
   "metadata": {},
   "outputs": [],
   "source": [
    "# importing the entire file\n",
    "import test_module\n",
    "# ill reference the functions as test_module.function_name()"
   ]
  },
  {
   "cell_type": "code",
   "execution_count": 2,
   "id": "9f3ca1fa",
   "metadata": {},
   "outputs": [],
   "source": [
    "# importing just one function\n",
    "from test_module import circumference\n",
    "# just use circumference()"
   ]
  },
  {
   "cell_type": "code",
   "execution_count": 3,
   "id": "c77e5299",
   "metadata": {},
   "outputs": [
    {
     "name": "stdout",
     "output_type": "stream",
     "text": [
      "Invalid input, try again.\n"
     ]
    }
   ],
   "source": [
    "# step 1 determine if user wants circumference or house area\n",
    "# step 2 ask for relevant inputs\n",
    "# step 3 call imported functions\n",
    "# step 4 print answers\n",
    "\n",
    "want = input('Do you want to calculate circumference or house area? (c for circumference, a for house area) ')\n",
    "if want == 'c':\n",
    "    # do the circumference stuff\n",
    "    # what do we need to use our circumference function? answer: a radius\n",
    "    print('Circle circumference finder activated.')\n",
    "    radius = float(input('What is the radius of the circle? '))\n",
    "    ans = circumference(radius)\n",
    "    print(f'The circumference of a circle with radius {radius} is {ans}')\n",
    "elif want == 'a':\n",
    "    # do house area\n",
    "    print('House area calculator activated.')\n",
    "    length = float(input('What is the length of the house (in ft)? '))\n",
    "    width = float(input('What is the width of the house (in ft)? '))\n",
    "    ans = test_module.squareFootage(length, width)\n",
    "    print(f'The square footage of this house is {ans} sq. ft.')\n",
    "else:\n",
    "    print('Invalid input, try again.')"
   ]
  },
  {
   "cell_type": "code",
   "execution_count": null,
   "id": "98c5ed83",
   "metadata": {},
   "outputs": [],
   "source": []
  },
  {
   "cell_type": "code",
   "execution_count": 12,
   "id": "a2434f85",
   "metadata": {},
   "outputs": [
    {
     "name": "stdout",
     "output_type": "stream",
     "text": [
      "What would you like to do?\n",
      "[1] Show Current Cart\n",
      "[2] Add Item\n",
      "[3] Remove Item\n",
      "[4] Quit\n",
      "2\n",
      "What would you like to add to your cart? fennec fox\n",
      "fennec fox has been added to your cart.\n",
      "What would you like to do?\n",
      "[1] Show Current Cart\n",
      "[2] Add Item\n",
      "[3] Remove Item\n",
      "[4] Quit\n",
      "2\n",
      "What would you like to add to your cart? polar bear\n",
      "polar bear has been added to your cart.\n",
      "What would you like to do?\n",
      "[1] Show Current Cart\n",
      "[2] Add Item\n",
      "[3] Remove Item\n",
      "[4] Quit\n",
      "2\n",
      "What would you like to add to your cart? zebra\n",
      "zebra has been added to your cart.\n",
      "What would you like to do?\n",
      "[1] Show Current Cart\n",
      "[2] Add Item\n",
      "[3] Remove Item\n",
      "[4] Quit\n",
      "4\n",
      "Thank you for shopping.\n",
      "Your cart contains:\n",
      "1 | fennec fox\n",
      "2 | polar bear\n",
      "3 | zebra\n"
     ]
    }
   ],
   "source": [
    "# simple shopping cart example\n",
    "\n",
    "cart = []\n",
    "\n",
    "while True:\n",
    "    choice = input('What would you like to do?\\n[1] Show Current Cart\\n[2] Add Item\\n[3] Remove Item\\n[4] Quit\\n')\n",
    "    if choice == '1':\n",
    "        print(f'Your cart currently contains:\\n{cart}')\n",
    "    elif choice == '2':\n",
    "        newitem = input('What would you like to add to your cart? ')\n",
    "        cart.append(newitem)\n",
    "        print(f'{newitem} has been added to your cart.')\n",
    "    elif choice == '3':\n",
    "        print(f'Your cart currently contains:\\n{cart}')\n",
    "        remov = input('What would you like to remove from your cart? (capitalization matters)')\n",
    "        try:\n",
    "            cart.remove(remov)\n",
    "            print(f'{remov} was successfully removed from your cart.')\n",
    "        except:\n",
    "            print(f'{remov} was not in your cart.')\n",
    "    elif choice == '4':\n",
    "        print('Thank you for shopping.')\n",
    "        print(f'Your cart contains:')\n",
    "        for i in range(len(cart)): # index loop\n",
    "            # i represents an index number\n",
    "            # therefore cart[i] represents a value in the cart\n",
    "            print(f'{i+1} | {cart[i]}')\n",
    "        break\n",
    "    else:\n",
    "        print('Invalid input, please try again.')"
   ]
  },
  {
   "cell_type": "code",
   "execution_count": null,
   "id": "da4aad9d",
   "metadata": {},
   "outputs": [],
   "source": []
  }
 ],
 "metadata": {
  "kernelspec": {
   "display_name": "Python 3",
   "language": "python",
   "name": "python3"
  },
  "language_info": {
   "codemirror_mode": {
    "name": "ipython",
    "version": 3
   },
   "file_extension": ".py",
   "mimetype": "text/x-python",
   "name": "python",
   "nbconvert_exporter": "python",
   "pygments_lexer": "ipython3",
   "version": "3.8.8"
  }
 },
 "nbformat": 4,
 "nbformat_minor": 5
}
