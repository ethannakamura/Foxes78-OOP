{
 "cells": [
  {
   "cell_type": "code",
   "execution_count": 1,
   "id": "8cf166e5",
   "metadata": {},
   "outputs": [],
   "source": [
    "# importing the entire file\n",
    "import test_module\n",
    "# ill reference the functions as test_module.function_name()"
   ]
  },
  {
   "cell_type": "code",
   "execution_count": null,
   "id": "5f61e4d3",
   "metadata": {},
   "outputs": [],
   "source": []
  },
  {
   "cell_type": "code",
   "execution_count": null,
   "id": "161e2309",
   "metadata": {},
   "outputs": [],
   "source": []
  },
  {
   "cell_type": "code",
   "execution_count": null,
   "id": "f5cd0aae",
   "metadata": {},
   "outputs": [],
   "source": []
  },
  {
   "cell_type": "code",
   "execution_count": 2,
   "id": "9f3ca1fa",
   "metadata": {},
   "outputs": [],
   "source": [
    "# importing just one function\n",
    "from test_module import circumference\n",
    "# just use circumference()"
   ]
  },
  {
   "cell_type": "code",
   "execution_count": 3,
   "id": "c77e5299",
   "metadata": {},
   "outputs": [
    {
     "name": "stdout",
     "output_type": "stream",
     "text": [
      "Invalid input, try again.\n"
     ]
    }
   ],
   "source": [
    "# step 1 determine if user wants circumference or house area\n",
    "# step 2 ask for relevant inputs\n",
    "# step 3 call imported functions\n",
    "# step 4 print answers\n",
    "\n",
    "want = input('Do you want to calculate circumference or house area? (c for circumference, a for house area) ')\n",
    "if want == 'c':\n",
    "    # do the circumference stuff\n",
    "    # what do we need to use our circumference function? answer: a radius\n",
    "    print('Circle circumference finder activated.')\n",
    "    radius = float(input('What is the radius of the circle? '))\n",
    "    ans = circumference(radius)\n",
    "    print(f'The circumference of a circle with radius {radius} is {ans}')\n",
    "elif want == 'a':\n",
    "    # do house area\n",
    "    print('House area calculator activated.')\n",
    "    length = float(input('What is the length of the house (in ft)? '))\n",
    "    width = float(input('What is the width of the house (in ft)? '))\n",
    "    ans = test_module.squareFootage(length, width)\n",
    "    print(f'The square footage of this house is {ans} sq. ft.')\n",
    "else:\n",
    "    print('Invalid input, try again.')"
   ]
  },
  {
   "cell_type": "code",
   "execution_count": null,
   "id": "98c5ed83",
   "metadata": {},
   "outputs": [],
   "source": []
  },
  {
   "cell_type": "code",
   "execution_count": 12,
   "id": "a2434f85",
   "metadata": {},
   "outputs": [
    {
     "name": "stdout",
     "output_type": "stream",
     "text": [
      "What would you like to do?\n",
      "[1] Show Current Cart\n",
      "[2] Add Item\n",
      "[3] Remove Item\n",
      "[4] Quit\n",
      "2\n",
      "What would you like to add to your cart? fennec fox\n",
      "fennec fox has been added to your cart.\n",
      "What would you like to do?\n",
      "[1] Show Current Cart\n",
      "[2] Add Item\n",
      "[3] Remove Item\n",
      "[4] Quit\n",
      "2\n",
      "What would you like to add to your cart? polar bear\n",
      "polar bear has been added to your cart.\n",
      "What would you like to do?\n",
      "[1] Show Current Cart\n",
      "[2] Add Item\n",
      "[3] Remove Item\n",
      "[4] Quit\n",
      "2\n",
      "What would you like to add to your cart? zebra\n",
      "zebra has been added to your cart.\n",
      "What would you like to do?\n",
      "[1] Show Current Cart\n",
      "[2] Add Item\n",
      "[3] Remove Item\n",
      "[4] Quit\n",
      "4\n",
      "Thank you for shopping.\n",
      "Your cart contains:\n",
      "1 | fennec fox\n",
      "2 | polar bear\n",
      "3 | zebra\n"
     ]
    }
   ],
   "source": [
    "# simple shopping cart example\n",
    "\n",
    "cart = []\n",
    "\n",
    "while True:\n",
    "    choice = input('What would you like to do?\\n[1] Show Current Cart\\n[2] Add Item\\n[3] Remove Item\\n[4] Quit\\n')\n",
    "    if choice == '1':\n",
    "        print(f'Your cart currently contains:\\n{cart}')\n",
    "    elif choice == '2':\n",
    "        newitem = input('What would you like to add to your cart? ')\n",
    "        cart.append(newitem)\n",
    "        print(f'{newitem} has been added to your cart.')\n",
    "    elif choice == '3':\n",
    "        print(f'Your cart currently contains:\\n{cart}')\n",
    "        remov = input('What would you like to remove from your cart? (capitalization matters)')\n",
    "        try:\n",
    "            cart.remove(remov)\n",
    "            print(f'{remov} was successfully removed from your cart.')\n",
    "        except:\n",
    "            print(f'{remov} was not in your cart.')\n",
    "    elif choice == '4':\n",
    "        print('Thank you for shopping.')\n",
    "        print(f'Your cart contains:')\n",
    "        for i in range(len(cart)): # index loop\n",
    "            # i represents an index number\n",
    "            # therefore cart[i] represents a value in the cart\n",
    "            print(f'{i+1} | {cart[i]}')\n",
    "        break\n",
    "    else:\n",
    "        print('Invalid input, please try again.')"
   ]
  },
  {
   "cell_type": "markdown",
   "id": "8820a376",
   "metadata": {},
   "source": [
    "Consecutive Indices\n",
    "You are given a list of integers (arr), and two integers (a and b). Your task is to find out whether or not a and b appear consecutively in arr, and return a boolean value (True if a and b are consecutive, False otherwise).\n",
    "\n",
    "Example:\n",
    "Input: ([4, 6, 9, -3, 4, -78, 0], -3, 4)\n",
    "Output: True\n",
    "Input: ([3,1,0,19], 19, 0)\t\n",
    "Output: True"
   ]
  },
  {
   "cell_type": "code",
   "execution_count": 5,
   "id": "c12c2fda",
   "metadata": {},
   "outputs": [
    {
     "data": {
      "text/plain": [
       "True"
      ]
     },
     "execution_count": 5,
     "metadata": {},
     "output_type": "execute_result"
    }
   ],
   "source": [
    "# understanding the .index() function -> the index function does a loop\n",
    "    # so it will always return the index of the first occurance of a number in the list\n",
    "    \n",
    "# enumerate() -> loop through both indices and values at the same time\n",
    "# for i in range(len(list)):\n",
    "\n",
    "# loop up until the last index number but don't include the last index (aka len(list)-1)\n",
    "\n",
    "# O(n) Θ(n) Ω(1)\n",
    "def consecInd(arr, a, b):\n",
    "    i = 0\n",
    "    while i < len(arr)-1: # linear while loop\n",
    "        # is the current index holding a\n",
    "        if arr[i] == a:\n",
    "            if arr[i+1] == b:\n",
    "                return True\n",
    "            i+=2\n",
    "        # is the current index holding b\n",
    "        elif arr[i] == b:\n",
    "            if arr[i+1] == a:\n",
    "                return True\n",
    "            i+=2\n",
    "        # is the current index holding neither a nor b\n",
    "        else:\n",
    "            i+=1\n",
    "    return False\n",
    "\n",
    "consecInd([4, 6, 9, -3, 4, -78, 0], -3, 4)"
   ]
  },
  {
   "cell_type": "code",
   "execution_count": 6,
   "id": "8de5d263",
   "metadata": {},
   "outputs": [
    {
     "data": {
      "text/plain": [
       "True"
      ]
     },
     "execution_count": 6,
     "metadata": {},
     "output_type": "execute_result"
    }
   ],
   "source": [
    "# O(n) Θ(n) Ω(1)\n",
    "def consecInd(arr, a, b):\n",
    "    for i in range(len(arr)-1):\n",
    "        # is the current index holding a\n",
    "        if arr[i] == a:\n",
    "            if arr[i+1] == b:\n",
    "                return True\n",
    "        # is the current index holding b\n",
    "        elif arr[i] == b:\n",
    "            if arr[i+1] == a:\n",
    "                return True\n",
    "    return False\n",
    "\n",
    "consecInd([4, 6, 9, -3, 4, -78, 0], -3, 4)"
   ]
  },
  {
   "cell_type": "code",
   "execution_count": null,
   "id": "a2ad994f",
   "metadata": {},
   "outputs": [],
   "source": []
  },
  {
   "cell_type": "code",
   "execution_count": null,
   "id": "2e92d265",
   "metadata": {},
   "outputs": [],
   "source": []
  },
  {
   "cell_type": "code",
   "execution_count": null,
   "id": "4e4c9c54",
   "metadata": {},
   "outputs": [],
   "source": []
  },
  {
   "cell_type": "code",
   "execution_count": null,
   "id": "5187f540",
   "metadata": {},
   "outputs": [],
   "source": []
  },
  {
   "cell_type": "code",
   "execution_count": 1,
   "id": "f3084b41",
   "metadata": {},
   "outputs": [],
   "source": [
    "a_sentence = \"Benedict Cumberbatch cannot say the word penguin correctly.\"\n",
    "\n",
    "# time complexity - worst-case O(n) avg-case Θ(n) best-case Ω(n)\n",
    "def norepeatingletters(sentence):\n",
    "    # choosing to build answer in a list - appending to the end of a list is O(1)*\n",
    "    new_sentence = [] # sacrifice an extra linear step of joining to avoid O(n) string concatenation in loop\n",
    "    # choosing to use a set for my seen letters because a membership test in a set is O(1)\n",
    "    counter = set() # dont need exact number of occurances\n",
    "    for letter in sentence:\n",
    "        if letter in counter: # membership test in a set\n",
    "            new_sentence.append('_')\n",
    "        elif letter == ' ': # edge case of always including whitespace\n",
    "            new_sentence.append(' ')\n",
    "        else:\n",
    "            counter.add(letter)\n",
    "            new_sentence.append(letter)\n",
    "    print(new_sentence)\n",
    "    # str.join(list) is a linear process\n",
    "    return ''.join(new_sentence) # return the string"
   ]
  },
  {
   "cell_type": "code",
   "execution_count": 2,
   "id": "b56c5588",
   "metadata": {},
   "outputs": [
    {
     "name": "stdout",
     "output_type": "stream",
     "text": [
      "['B', 'e', 'n', '_', 'd', 'i', 'c', 't', ' ', 'C', 'u', 'm', 'b', '_', 'r', '_', 'a', '_', '_', 'h', ' ', '_', '_', '_', '_', 'o', '_', ' ', 's', '_', 'y', ' ', '_', '_', '_', ' ', 'w', '_', '_', '_', ' ', 'p', '_', '_', 'g', '_', '_', '_', ' ', '_', '_', '_', '_', '_', '_', '_', 'l', '_', '.']\n"
     ]
    },
    {
     "data": {
      "text/plain": [
       "'Ben_dict Cumb_r_a__h ____o_ s_y ___ w___ p__g___ _______l_.'"
      ]
     },
     "execution_count": 2,
     "metadata": {},
     "output_type": "execute_result"
    }
   ],
   "source": [
    "norepeatingletters(a_sentence)"
   ]
  },
  {
   "cell_type": "code",
   "execution_count": 3,
   "id": "c0562aa7",
   "metadata": {
    "scrolled": true
   },
   "outputs": [
    {
     "data": {
      "text/plain": [
       "'benedictcumberbatch'"
      ]
     },
     "execution_count": 3,
     "metadata": {},
     "output_type": "execute_result"
    }
   ],
   "source": []
  },
  {
   "cell_type": "code",
   "execution_count": 6,
   "id": "e5956957",
   "metadata": {},
   "outputs": [
    {
     "name": "stdout",
     "output_type": "stream",
     "text": [
      "Fennec Fox\n"
     ]
    }
   ],
   "source": [
    "'Benedict ' + 'C'\n",
    "'Benedict C'# linear process\n",
    "\n",
    "# if we do string concatenation inside of our for loop -> that is a linear step inside of the for loop\n",
    "# aka a linear step that fully runs every single step of the for loop\n",
    "# which gives us linear * linear -> n^2 quadratic time complexity"
   ]
  },
  {
   "cell_type": "code",
   "execution_count": null,
   "id": "8a770654",
   "metadata": {},
   "outputs": [],
   "source": [
    "['B', 'e', 'n'].append('e') # appending the end of a list is O(1)*\n",
    "\n",
    "# for loop is just linear because appending is constant time\n",
    "# after we have completed a linear process (the for loop)\n",
    "\n",
    "# we do a second, entirely separate linear process (the .join())\n",
    "# joining a list into a string ''.join(list) is a linear process O(n)\n",
    "# linear + linear -> n + n -> n linear time complexity"
   ]
  }
 ],
 "metadata": {
  "kernelspec": {
   "display_name": "Python 3",
   "language": "python",
   "name": "python3"
  },
  "language_info": {
   "codemirror_mode": {
    "name": "ipython",
    "version": 3
   },
   "file_extension": ".py",
   "mimetype": "text/x-python",
   "name": "python",
   "nbconvert_exporter": "python",
   "pygments_lexer": "ipython3",
   "version": "3.8.8"
  }
 },
 "nbformat": 4,
 "nbformat_minor": 5
}
