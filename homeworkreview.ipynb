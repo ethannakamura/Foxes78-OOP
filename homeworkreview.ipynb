{
 "cells": [
  {
   "cell_type": "code",
   "execution_count": 1,
   "id": "8cf166e5",
   "metadata": {},
   "outputs": [],
   "source": [
    "# importing the entire file\n",
    "import test_module\n",
    "# ill reference the functions as test_module.function_name()"
   ]
  },
  {
   "cell_type": "code",
   "execution_count": 2,
   "id": "9f3ca1fa",
   "metadata": {},
   "outputs": [],
   "source": [
    "# importing just one function\n",
    "from test_module import circumference\n",
    "# just use circumference()"
   ]
  },
  {
   "cell_type": "code",
   "execution_count": 3,
   "id": "c77e5299",
   "metadata": {},
   "outputs": [
    {
     "name": "stdout",
     "output_type": "stream",
     "text": [
      "Invalid input, try again.\n"
     ]
    }
   ],
   "source": [
    "# step 1 determine if user wants circumference or house area\n",
    "# step 2 ask for relevant inputs\n",
    "# step 3 call imported functions\n",
    "# step 4 print answers\n",
    "\n",
    "want = input('Do you want to calculate circumference or house area? (c for circumference, a for house area) ')\n",
    "if want == 'c':\n",
    "    # do the circumference stuff\n",
    "    # what do we need to use our circumference function? answer: a radius\n",
    "    print('Circle circumference finder activated.')\n",
    "    radius = float(input('What is the radius of the circle? '))\n",
    "    ans = circumference(radius)\n",
    "    print(f'The circumference of a circle with radius {radius} is {ans}')\n",
    "elif want == 'a':\n",
    "    # do house area\n",
    "    print('House area calculator activated.')\n",
    "    length = float(input('What is the length of the house (in ft)? '))\n",
    "    width = float(input('What is the width of the house (in ft)? '))\n",
    "    ans = test_module.squareFootage(length, width)\n",
    "    print(f'The square footage of this house is {ans} sq. ft.')\n",
    "else:\n",
    "    print('Invalid input, try again.')"
   ]
  },
  {
   "cell_type": "code",
   "execution_count": null,
   "id": "98c5ed83",
   "metadata": {},
   "outputs": [],
   "source": []
  }
 ],
 "metadata": {
  "kernelspec": {
   "display_name": "Python 3",
   "language": "python",
   "name": "python3"
  },
  "language_info": {
   "codemirror_mode": {
    "name": "ipython",
    "version": 3
   },
   "file_extension": ".py",
   "mimetype": "text/x-python",
   "name": "python",
   "nbconvert_exporter": "python",
   "pygments_lexer": "ipython3",
   "version": "3.9.6"
  }
 },
 "nbformat": 4,
 "nbformat_minor": 5
}
